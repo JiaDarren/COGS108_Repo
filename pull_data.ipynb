{
 "cells": [
  {
   "cell_type": "markdown",
   "metadata": {},
   "source": [
    "# Import Important Libraries"
   ]
  },
  {
   "cell_type": "code",
   "execution_count": 132,
   "metadata": {},
   "outputs": [],
   "source": [
    "from urllib.request import urlopen \n",
    "from urllib.error import HTTPError\n",
    "import json \n",
    "import numpy as np\n",
    "import csv\n",
    "import re\n",
    "import random"
   ]
  },
  {
   "cell_type": "markdown",
   "metadata": {},
   "source": [
    "# Pull Data From Website"
   ]
  },
  {
   "cell_type": "code",
   "execution_count": 1,
   "metadata": {},
   "outputs": [],
   "source": [
    "def pull_data(min_yr = 1500, max_yr = 2000, num_pgs = 20):\n",
    "    data = []\n",
    "\n",
    "    for yr in range(min_yr, max_yr, 100):\n",
    "        for pg in range(1, num_pgs + 1, 1):\n",
    "            print(f\"Processing Year {yr}, Page {pg}/{num_pgs}\", end='\\r')\n",
    "            url = f\"http://gutendex.com/books?author_year_start={yr}&author_year_start={yr + 99}&languages=en&page={pg}\"\n",
    "            response = urlopen(url)\n",
    "            data_json = json.loads(response.read()) \n",
    "            data_pg = np.array([(x['id'], x['authors'][0]['birth_year']) for x in data_json['results']])\n",
    "\n",
    "            data.extend(data_pg)\n",
    "    return np.array(data)"
   ]
  },
  {
   "cell_type": "markdown",
   "metadata": {},
   "source": [
    "## Save Data if data isn't saved"
   ]
  },
  {
   "cell_type": "code",
   "execution_count": 6,
   "metadata": {},
   "outputs": [],
   "source": [
    "try:\n",
    "    data = np.genfromtxt('data/date_data.csv', delimiter=',')[1:]\n",
    "except FileNotFoundError:\n",
    "    data = pull_data()\n",
    "    data_csv = {'book_id': data[:,0], 'birth_yr': data[:,1]}\n",
    "    with open('data/date_data.csv', 'w') as f:\n",
    "        w = csv.writer(f)\n",
    "        w.writerow(data_csv.keys())\n",
    "        w.writerows(zip(*data_csv.values()))"
   ]
  },
  {
   "cell_type": "code",
   "execution_count": 7,
   "metadata": {},
   "outputs": [
    {
     "data": {
      "text/plain": [
       "array([[   84.,  1797.],\n",
       "       [ 1513.,  1564.],\n",
       "       [ 1342.,  1775.],\n",
       "       [25344.,  1804.],\n",
       "       [  345.,  1847.]])"
      ]
     },
     "execution_count": 7,
     "metadata": {},
     "output_type": "execute_result"
    }
   ],
   "source": [
    "data[:5]"
   ]
  },
  {
   "cell_type": "markdown",
   "metadata": {},
   "source": [
    "# Get Text Data"
   ]
  },
  {
   "cell_type": "code",
   "execution_count": 155,
   "metadata": {},
   "outputs": [],
   "source": [
    "def get_text(book_id):\n",
    "    url = f\"https://www.gutenberg.org/cache/epub/{book_id}/pg{book_id}.txt\"\n",
    "    text = urlopen(url).read()\n",
    "    return text\n",
    "\n",
    "def get_text_samples(text, num_samples = 3):\n",
    "    # Get rid of Guttenberg Header and footer\n",
    "    book_text = [x.strip() for x in text.decode(\"utf-8\").split('***')][2]\n",
    "    # Remove '\\r' symbol\n",
    "    book_text = re.sub(r\"[\\r]+\", \"\", book_text)\n",
    "    # split by paragraph breaks\n",
    "    book_text = re.split(r\"\\n{2,}\", book_text)\n",
    "    # remove paragraphs \n",
    "    book_text = list(filter(lambda x: len(x) >= (50 * 8), np.array(book_text)))\n",
    "    # Randomly sample remaining paragraphs\n",
    "    paragraphs = random.sample(book_text, min(num_samples, len(book_text)))\n",
    "    # Replace \\n with ' ' and return paragraphs\n",
    "    return np.array([re.sub(r\"\\n\", \" \", p) for p in paragraphs])"
   ]
  },
  {
   "cell_type": "code",
   "execution_count": 160,
   "metadata": {},
   "outputs": [
    {
     "name": "stdout",
     "output_type": "stream",
     "text": [
      "HTTP 404 Error: book_id = 33283\n",
      "HTTP 404 Error: book_id = 5740\n",
      "HTTP 404 Error: book_id = 38769\n",
      "HTTP 404 Error: book_id = 21076\n",
      "HTTP 404 Error: book_id = 3201\n",
      "HTTP 404 Error: book_id = 41568\n",
      "HTTP 404 Error: book_id = 51155\n",
      "HTTP 404 Error: book_id = 114\n",
      "HTTP 404 Error: book_id = 26471\n",
      "HTTP 404 Error: book_id = 33283\n",
      "HTTP 404 Error: book_id = 5740\n",
      "HTTP 404 Error: book_id = 38769\n",
      "HTTP 404 Error: book_id = 21076\n",
      "HTTP 404 Error: book_id = 3201\n",
      "HTTP 404 Error: book_id = 41568\n",
      "HTTP 404 Error: book_id = 51155\n",
      "HTTP 404 Error: book_id = 114\n",
      "HTTP 404 Error: book_id = 26471\n",
      "HTTP 404 Error: book_id = 29785\n",
      "HTTP 404 Error: book_id = 5001\n",
      "HTTP 404 Error: book_id = 19797\n",
      "HTTP 404 Error: book_id = 33283\n",
      "HTTP 404 Error: book_id = 5740\n",
      "HTTP 404 Error: book_id = 38769\n",
      "HTTP 404 Error: book_id = 21076\n",
      "HTTP 404 Error: book_id = 3201\n",
      "HTTP 404 Error: book_id = 41568\n",
      "HTTP 404 Error: book_id = 51155\n",
      "HTTP 404 Error: book_id = 114\n",
      "HTTP 404 Error: book_id = 26471\n",
      "HTTP 404 Error: book_id = 29785\n",
      "HTTP 404 Error: book_id = 5001\n",
      "HTTP 404 Error: book_id = 19797\n",
      "HTTP 404 Error: book_id = 37157\n",
      "HTTP 404 Error: book_id = 33283\n",
      "HTTP 404 Error: book_id = 5740\n",
      "HTTP 404 Error: book_id = 38769\n",
      "HTTP 404 Error: book_id = 3201\n",
      "HTTP 404 Error: book_id = 41568\n",
      "HTTP 404 Error: book_id = 51155\n",
      "HTTP 404 Error: book_id = 114\n",
      "HTTP 404 Error: book_id = 26471\n",
      "HTTP 404 Error: book_id = 29785\n",
      "HTTP 404 Error: book_id = 5001\n",
      "HTTP 404 Error: book_id = 19797\n",
      "HTTP 404 Error: book_id = 37157\n",
      "HTTP 404 Error: book_id = 9551\n",
      "HTTP 404 Error: book_id = 17384\n",
      "HTTP 404 Error: book_id = 23085\n",
      "HTTP 404 Error: book_id = 28809\n",
      "HTTP 404 Error: book_id = 28913\n",
      "HTTP 404 Error: book_id = 9056\n",
      "HTTP 404 Error: book_id = 29784\n",
      "HTTP 404 Error: book_id = 745\n",
      "Progress: 0.9996875\r"
     ]
    }
   ],
   "source": [
    "book_ids = data[:,0].astype(int)\n",
    "book_samples = []\n",
    "invalid_ids = []\n",
    "\n",
    "for i in range(book_ids.shape[0]):\n",
    "    try:\n",
    "        text = get_text(book_ids[i])\n",
    "    except HTTPError as err:\n",
    "        print(f\"HTTP {err.code} Error: book_id = {book_ids[i]}\")\n",
    "        invalid_ids.append(book_ids[i])\n",
    "        \n",
    "    text_samples = get_text_samples(text)\n",
    "    ids = np.full(len(text_samples), book_ids[i])\n",
    "    samples = np.array(list(zip(ids, text_samples)))\n",
    "    book_samples.extend(samples)\n",
    "    \n",
    "    print(f\"Progress: {i/book_ids.shape[0]}\", end='\\r')\n"
   ]
  },
  {
   "cell_type": "code",
   "execution_count": 162,
   "metadata": {},
   "outputs": [],
   "source": [
    "book_samples = np.array(book_samples)"
   ]
  },
  {
   "cell_type": "code",
   "execution_count": 163,
   "metadata": {},
   "outputs": [
    {
     "data": {
      "text/plain": [
       "array(['84', '84', '84', ..., '60946', '60946', '60946'], dtype='<U57303')"
      ]
     },
     "execution_count": 163,
     "metadata": {},
     "output_type": "execute_result"
    }
   ],
   "source": [
    "book_samples[:,0]"
   ]
  },
  {
   "cell_type": "code",
   "execution_count": 164,
   "metadata": {},
   "outputs": [],
   "source": [
    "book_data_csv = {'book_id': book_samples[:,0], 'text': book_samples[:,1]}\n",
    "with open('data/excerpts.csv', 'w') as f:\n",
    "    w = csv.writer(f)\n",
    "    w.writerow(book_data_csv.keys())\n",
    "    w.writerows(zip(*book_data_csv.values()))"
   ]
  }
 ],
 "metadata": {
  "kernelspec": {
   "display_name": "base",
   "language": "python",
   "name": "python3"
  },
  "language_info": {
   "codemirror_mode": {
    "name": "ipython",
    "version": 3
   },
   "file_extension": ".py",
   "mimetype": "text/x-python",
   "name": "python",
   "nbconvert_exporter": "python",
   "pygments_lexer": "ipython3",
   "version": "3.9.12"
  }
 },
 "nbformat": 4,
 "nbformat_minor": 2
}
